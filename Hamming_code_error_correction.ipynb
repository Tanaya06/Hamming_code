{
  "nbformat": 4,
  "nbformat_minor": 0,
  "metadata": {
    "colab": {
      "name": "Copy of Hamming_code_on_text.ipynb",
      "provenance": [],
      "collapsed_sections": []
    },
    "kernelspec": {
      "name": "python3",
      "display_name": "Python 3"
    }
  },
  "cells": [
    {
      "cell_type": "code",
      "metadata": {
        "id": "sh4PuclsCyiO"
      },
      "source": [
        "import numpy as np\n",
        "from functools import reduce\n",
        "import operator as op\n",
        "import random"
      ],
      "execution_count": null,
      "outputs": []
    },
    {
      "cell_type": "code",
      "metadata": {
        "id": "NtRq52-FGNWm"
      },
      "source": [
        "#Functions\n",
        "#Function to convert binary bits into eight bit binary\n",
        "def eightBitBinary(binary_digit):\n",
        "    lis = []\n",
        "    l = 0\n",
        "    for i in range(8):\n",
        "        if i >= 8 - len(binary_digit):\n",
        "           lis.append(int(binary_digit[l]))\n",
        "           l += 1\n",
        "        else:\n",
        "            lis.append(0)\n",
        "    return lis\n",
        "\n",
        "# Function to check if the number is power of two\n",
        "def isPowerOfTwo(n):\n",
        "    if n == 0:\n",
        "        return False\n",
        "    while n != 1:\n",
        "        if n % 2 != 0:\n",
        "            return False\n",
        "        n = n // 2\n",
        "    return True\n",
        "\n",
        "#Function to count number of ones\n",
        "def no_of_ones(n):\n",
        "  count = 0\n",
        "  while n:\n",
        "      count += n & 1\n",
        "      n >>= 1\n",
        "  return count\n",
        "\n",
        "#Function to convert binary to decimal\n",
        "def binToDec(n):\n",
        "  temp = n\n",
        "  dec = 0\n",
        "  base = 1\n",
        "  while temp:\n",
        "    last = temp % 10\n",
        "    temp = int(temp/10)\n",
        "    dec += last * base\n",
        "    base = base * 2\n",
        "  return dec\n",
        "\n",
        "#Function to extract 8 bits from array\n",
        "def divide(lis):\n",
        "  for i in range(0,len(lis),8):\n",
        "    yield lis[i:i + 8]\n",
        "\n",
        "#Function to extract binary message from encoded message\n",
        "def extract(bits):\n",
        "  temp = []\n",
        "  for i, bit in enumerate(bits):\n",
        "    if not isPowerOfTwo(i) and i != 0:\n",
        "      temp.append(bit)\n",
        "  new = list(divide(temp))\n",
        "  return new\n",
        "\n",
        "#Function to convert binary message to text and returns it\n",
        "def display(new):\n",
        "  binary_num = 0\n",
        "  char_list = []\n",
        "  message = \"\"\n",
        "  for i in range(len(new)):\n",
        "    binary_num = int(\"\".join(map(str,new[i])))\n",
        "    decimal = binToDec(binary_num)\n",
        "    char_list.append(chr(decimal))\n",
        "  for char in char_list:\n",
        "    message += char\n",
        "  return message\n",
        "  "
      ],
      "execution_count": null,
      "outputs": []
    },
    {
      "cell_type": "code",
      "metadata": {
        "colab": {
          "base_uri": "https://localhost:8080/"
        },
        "id": "Xe1vnwv9ZN6N",
        "outputId": "403cba8b-4b33-4e85-c006-6e62f9205f27"
      },
      "source": [
        "!pip install SpeechRecognition pydub\n",
        "!pip install gTTs"
      ],
      "execution_count": null,
      "outputs": [
        {
          "output_type": "stream",
          "text": [
            "Collecting SpeechRecognition\n",
            "\u001b[?25l  Downloading https://files.pythonhosted.org/packages/26/e1/7f5678cd94ec1234269d23756dbdaa4c8cfaed973412f88ae8adf7893a50/SpeechRecognition-3.8.1-py2.py3-none-any.whl (32.8MB)\n",
            "\u001b[K     |████████████████████████████████| 32.8MB 115kB/s \n",
            "\u001b[?25hCollecting pydub\n",
            "  Downloading https://files.pythonhosted.org/packages/a6/53/d78dc063216e62fc55f6b2eebb447f6a4b0a59f55c8406376f76bf959b08/pydub-0.25.1-py2.py3-none-any.whl\n",
            "Installing collected packages: SpeechRecognition, pydub\n",
            "Successfully installed SpeechRecognition-3.8.1 pydub-0.25.1\n",
            "Collecting gTTs\n",
            "  Downloading https://files.pythonhosted.org/packages/5f/b9/94e59337107be134b21ce395a29fc0715b707b560108d6797de2d93e1178/gTTS-2.2.2-py3-none-any.whl\n",
            "Requirement already satisfied: requests in /usr/local/lib/python3.7/dist-packages (from gTTs) (2.23.0)\n",
            "Requirement already satisfied: click in /usr/local/lib/python3.7/dist-packages (from gTTs) (7.1.2)\n",
            "Requirement already satisfied: six in /usr/local/lib/python3.7/dist-packages (from gTTs) (1.15.0)\n",
            "Requirement already satisfied: chardet<4,>=3.0.2 in /usr/local/lib/python3.7/dist-packages (from requests->gTTs) (3.0.4)\n",
            "Requirement already satisfied: idna<3,>=2.5 in /usr/local/lib/python3.7/dist-packages (from requests->gTTs) (2.10)\n",
            "Requirement already satisfied: urllib3!=1.25.0,!=1.25.1,<1.26,>=1.21.1 in /usr/local/lib/python3.7/dist-packages (from requests->gTTs) (1.24.3)\n",
            "Requirement already satisfied: certifi>=2017.4.17 in /usr/local/lib/python3.7/dist-packages (from requests->gTTs) (2020.12.5)\n",
            "Installing collected packages: gTTs\n",
            "Successfully installed gTTs-2.2.2\n"
          ],
          "name": "stdout"
        }
      ]
    },
    {
      "cell_type": "code",
      "metadata": {
        "id": "aAkeYqKSf3vN"
      },
      "source": [
        "from gtts import gTTS\n",
        "import IPython\n",
        "import speech_recognition as sr"
      ],
      "execution_count": null,
      "outputs": []
    },
    {
      "cell_type": "code",
      "metadata": {
        "id": "cUci3JHOZUGl"
      },
      "source": [
        "filename = \"/content/original_audio_file.wav\""
      ],
      "execution_count": null,
      "outputs": []
    },
    {
      "cell_type": "code",
      "metadata": {
        "id": "rUIP9fEqZWJ-"
      },
      "source": [
        "r = sr.Recognizer()"
      ],
      "execution_count": null,
      "outputs": []
    },
    {
      "cell_type": "code",
      "metadata": {
        "id": "nW_F4h5oZYAZ"
      },
      "source": [
        "with sr.AudioFile(filename) as source:\n",
        "    audio_data = r.record(source)\n",
        "    text = r.recognize_google(audio_data)"
      ],
      "execution_count": null,
      "outputs": []
    },
    {
      "cell_type": "markdown",
      "metadata": {
        "id": "KcgsodopI5-e"
      },
      "source": [
        "**COLLECTING AND STORING DATA**"
      ]
    },
    {
      "cell_type": "code",
      "metadata": {
        "colab": {
          "base_uri": "https://localhost:8080/"
        },
        "id": "NeGt2XGsDQDM",
        "outputId": "5a5aadd3-a3d3-43ba-de90-d79cc64248c1"
      },
      "source": [
        "#Collecting data from user\n",
        "data = text\n",
        "print(\"Original data: \",data)\n",
        "list_of_char = [char for char in data]"
      ],
      "execution_count": null,
      "outputs": [
        {
          "output_type": "stream",
          "text": [
            "Original data:  I believe you're just talking nonsense\n"
          ],
          "name": "stdout"
        }
      ]
    },
    {
      "cell_type": "code",
      "metadata": {
        "colab": {
          "base_uri": "https://localhost:8080/"
        },
        "id": "9_FzbcqlDZ9g",
        "outputId": "ad0a9595-3609-47be-a507-9cf873da888d"
      },
      "source": [
        "#Convert data into binary data\n",
        "binary_data = []\n",
        "for i in list_of_char:\n",
        "    bin_num = bin(ord(i))[2:]\n",
        "    binary_data = binary_data + eightBitBinary(bin_num)\n",
        "print(\"Binary converted data\\n\",binary_data)"
      ],
      "execution_count": null,
      "outputs": [
        {
          "output_type": "stream",
          "text": [
            "Binary converted data\n",
            " [0, 1, 0, 0, 1, 0, 0, 1, 0, 0, 1, 0, 0, 0, 0, 0, 0, 1, 1, 0, 0, 0, 1, 0, 0, 1, 1, 0, 0, 1, 0, 1, 0, 1, 1, 0, 1, 1, 0, 0, 0, 1, 1, 0, 1, 0, 0, 1, 0, 1, 1, 0, 0, 1, 0, 1, 0, 1, 1, 1, 0, 1, 1, 0, 0, 1, 1, 0, 0, 1, 0, 1, 0, 0, 1, 0, 0, 0, 0, 0, 0, 1, 1, 1, 1, 0, 0, 1, 0, 1, 1, 0, 1, 1, 1, 1, 0, 1, 1, 1, 0, 1, 0, 1, 0, 0, 1, 0, 0, 1, 1, 1, 0, 1, 1, 1, 0, 0, 1, 0, 0, 1, 1, 0, 0, 1, 0, 1, 0, 0, 1, 0, 0, 0, 0, 0, 0, 1, 1, 0, 1, 0, 1, 0, 0, 1, 1, 1, 0, 1, 0, 1, 0, 1, 1, 1, 0, 0, 1, 1, 0, 1, 1, 1, 0, 1, 0, 0, 0, 0, 1, 0, 0, 0, 0, 0, 0, 1, 1, 1, 0, 1, 0, 0, 0, 1, 1, 0, 0, 0, 0, 1, 0, 1, 1, 0, 1, 1, 0, 0, 0, 1, 1, 0, 1, 0, 1, 1, 0, 1, 1, 0, 1, 0, 0, 1, 0, 1, 1, 0, 1, 1, 1, 0, 0, 1, 1, 0, 0, 1, 1, 1, 0, 0, 1, 0, 0, 0, 0, 0, 0, 1, 1, 0, 1, 1, 1, 0, 0, 1, 1, 0, 1, 1, 1, 1, 0, 1, 1, 0, 1, 1, 1, 0, 0, 1, 1, 1, 0, 0, 1, 1, 0, 1, 1, 0, 0, 1, 0, 1, 0, 1, 1, 0, 1, 1, 1, 0, 0, 1, 1, 1, 0, 0, 1, 1, 0, 1, 1, 0, 0, 1, 0, 1]\n"
          ],
          "name": "stdout"
        }
      ]
    },
    {
      "cell_type": "code",
      "metadata": {
        "colab": {
          "base_uri": "https://localhost:8080/"
        },
        "id": "NpC6O9MmDiMj",
        "outputId": "dbd66ecf-b0cd-4893-902a-d9644d6504c6"
      },
      "source": [
        "#Calculation of parity bits\n",
        "par_bits = 0\n",
        "data_bits = len(binary_data)\n",
        "for i in range(data_bits):\n",
        "  if 2**i >= data_bits + i + 1:\n",
        "    par_bits += i\n",
        "    break\n",
        "total = data_bits + par_bits + 1\n",
        "print(\"Data bits = {}\\nParity bits = {}\\nTotal bits = {}\".format(data_bits,par_bits,total))"
      ],
      "execution_count": null,
      "outputs": [
        {
          "output_type": "stream",
          "text": [
            "Data bits = 304\n",
            "Parity bits = 9\n",
            "Total bits = 314\n"
          ],
          "name": "stdout"
        }
      ]
    },
    {
      "cell_type": "code",
      "metadata": {
        "colab": {
          "base_uri": "https://localhost:8080/"
        },
        "id": "5VZbKNEqDr7y",
        "outputId": "2662be74-d908-4f1f-caac-fc028fc96b0f"
      },
      "source": [
        "#Intializing array\n",
        "bits = np.zeros(total, dtype=int)\n",
        "print(bits)"
      ],
      "execution_count": null,
      "outputs": [
        {
          "output_type": "stream",
          "text": [
            "[0 0 0 0 0 0 0 0 0 0 0 0 0 0 0 0 0 0 0 0 0 0 0 0 0 0 0 0 0 0 0 0 0 0 0 0 0\n",
            " 0 0 0 0 0 0 0 0 0 0 0 0 0 0 0 0 0 0 0 0 0 0 0 0 0 0 0 0 0 0 0 0 0 0 0 0 0\n",
            " 0 0 0 0 0 0 0 0 0 0 0 0 0 0 0 0 0 0 0 0 0 0 0 0 0 0 0 0 0 0 0 0 0 0 0 0 0\n",
            " 0 0 0 0 0 0 0 0 0 0 0 0 0 0 0 0 0 0 0 0 0 0 0 0 0 0 0 0 0 0 0 0 0 0 0 0 0\n",
            " 0 0 0 0 0 0 0 0 0 0 0 0 0 0 0 0 0 0 0 0 0 0 0 0 0 0 0 0 0 0 0 0 0 0 0 0 0\n",
            " 0 0 0 0 0 0 0 0 0 0 0 0 0 0 0 0 0 0 0 0 0 0 0 0 0 0 0 0 0 0 0 0 0 0 0 0 0\n",
            " 0 0 0 0 0 0 0 0 0 0 0 0 0 0 0 0 0 0 0 0 0 0 0 0 0 0 0 0 0 0 0 0 0 0 0 0 0\n",
            " 0 0 0 0 0 0 0 0 0 0 0 0 0 0 0 0 0 0 0 0 0 0 0 0 0 0 0 0 0 0 0 0 0 0 0 0 0\n",
            " 0 0 0 0 0 0 0 0 0 0 0 0 0 0 0 0 0 0]\n"
          ],
          "name": "stdout"
        }
      ]
    },
    {
      "cell_type": "code",
      "metadata": {
        "colab": {
          "base_uri": "https://localhost:8080/"
        },
        "id": "-sSTmqKrDz5C",
        "outputId": "a6bb82e0-3e4e-4041-dc26-8aba84d5b411"
      },
      "source": [
        "#Storing binary data into array\n",
        "l = 0\n",
        "power_of_two = [0, 1, 2]\n",
        "for i in range(3, total):\n",
        "  if isPowerOfTwo(i):\n",
        "    power_of_two.append(i)\n",
        "    continue\n",
        "  bits[i] = binary_data[l]\n",
        "  l += 1\n",
        "\n",
        "print(\"\\nBinary data storedd into array \",bits)\n",
        "print(\"Index number which are power of two (parity bits index) \",power_of_two)"
      ],
      "execution_count": null,
      "outputs": [
        {
          "output_type": "stream",
          "text": [
            "\n",
            "Binary data storedd into array  [0 0 0 0 0 1 0 0 0 1 0 0 1 0 0 1 0 0 0 0 0 0 0 1 1 0 0 0 1 0 0 1 0 1 0 0 1\n",
            " 0 1 0 1 1 0 1 1 0 0 0 1 1 0 1 0 0 1 0 1 1 0 0 1 0 1 0 0 1 1 1 0 1 1 0 0 1\n",
            " 1 0 0 1 0 1 0 0 1 0 0 0 0 0 0 1 1 1 1 0 0 1 0 1 1 0 1 1 1 1 0 1 1 1 0 1 0\n",
            " 1 0 0 1 0 0 1 1 1 0 1 1 1 0 0 1 0 0 0 1 1 0 0 1 0 1 0 0 1 0 0 0 0 0 0 1 1\n",
            " 0 1 0 1 0 0 1 1 1 0 1 0 1 0 1 1 1 0 0 1 1 0 1 1 1 0 1 0 0 0 0 1 0 0 0 0 0\n",
            " 0 1 1 1 0 1 0 0 0 1 1 0 0 0 0 1 0 1 1 0 1 1 0 0 0 1 1 0 1 0 1 1 0 1 1 0 1\n",
            " 0 0 1 0 1 1 0 1 1 1 0 0 1 1 0 0 1 1 1 0 0 1 0 0 0 0 0 0 1 1 0 1 1 1 0 0 0\n",
            " 1 1 0 1 1 1 1 0 1 1 0 1 1 1 0 0 1 1 1 0 0 1 1 0 1 1 0 0 1 0 1 0 1 1 0 1 1\n",
            " 1 0 0 1 1 1 0 0 1 1 0 1 1 0 0 1 0 1]\n",
            "Index number which are power of two (parity bits index)  [0, 1, 2, 4, 8, 16, 32, 64, 128, 256]\n"
          ],
          "name": "stdout"
        }
      ]
    },
    {
      "cell_type": "markdown",
      "metadata": {
        "id": "HbiitgWrHQzF"
      },
      "source": [
        "**ENCODING**"
      ]
    },
    {
      "cell_type": "code",
      "metadata": {
        "colab": {
          "base_uri": "https://localhost:8080/"
        },
        "id": "rJWN9rSGHN6z",
        "outputId": "8272b3a2-fd5d-4960-aadd-b355835e667d"
      },
      "source": [
        "#Find the index number whose corresponding parity bit needs to be flipped\n",
        "index = reduce(op.xor, [i for i, bit in enumerate(bits) if bit])\n",
        "print(\"\\nNumber whose corresponding parity bit needs to be flipped: \",index)\n",
        "print(bin(index)[2:])"
      ],
      "execution_count": null,
      "outputs": [
        {
          "output_type": "stream",
          "text": [
            "\n",
            "Number whose corresponding parity bit needs to be flipped:  62\n",
            "111110\n"
          ],
          "name": "stdout"
        }
      ]
    },
    {
      "cell_type": "code",
      "metadata": {
        "colab": {
          "base_uri": "https://localhost:8080/"
        },
        "id": "4VIbsZWgH6fv",
        "outputId": "bae4b21a-9cf3-48d2-ea75-5c0ceddc3a25"
      },
      "source": [
        "#Decide which parity bit needs to be changed\n",
        "parity_list = []\n",
        "indexNum = index\n",
        "for i in power_of_two:\n",
        "  count_one = no_of_ones(indexNum)\n",
        "  xor_op = op.xor(indexNum, i)\n",
        "  if no_of_ones(xor_op) < count_one:\n",
        "    indexNum = op.xor(indexNum, i)\n",
        "    parity_list.append(i)\n",
        "\n",
        "print(\"\\nParity bits that needs to be change for encoding: \",parity_list)"
      ],
      "execution_count": null,
      "outputs": [
        {
          "output_type": "stream",
          "text": [
            "\n",
            "Parity bits that needs to be change for encoding:  [2, 4, 8, 16, 32]\n"
          ],
          "name": "stdout"
        }
      ]
    },
    {
      "cell_type": "code",
      "metadata": {
        "id": "qvHJkgolIwNf"
      },
      "source": [
        "#Changing parity bits value\n",
        "for n in parity_list:\n",
        "  bits[n] = not bits[n]"
      ],
      "execution_count": null,
      "outputs": []
    },
    {
      "cell_type": "code",
      "metadata": {
        "colab": {
          "base_uri": "https://localhost:8080/"
        },
        "id": "Bkl1iUstS-dx",
        "outputId": "e3d87568-ede3-4dcd-e5a2-44a3ccf6b666"
      },
      "source": [
        "#Check if message is encoded\n",
        "print(\"\\n0 indicates message is successfully encoded\")\n",
        "reduce(op.xor, [i for i, bit in enumerate(bits) if bit])"
      ],
      "execution_count": null,
      "outputs": [
        {
          "output_type": "stream",
          "text": [
            "\n",
            "0 indicates message is successfully encoded\n"
          ],
          "name": "stdout"
        },
        {
          "output_type": "execute_result",
          "data": {
            "text/plain": [
              "0"
            ]
          },
          "metadata": {
            "tags": []
          },
          "execution_count": 23
        }
      ]
    },
    {
      "cell_type": "markdown",
      "metadata": {
        "id": "lbrZ7VEnJCMI"
      },
      "source": [
        "Random noise"
      ]
    },
    {
      "cell_type": "code",
      "metadata": {
        "id": "F3M9vZURIVsB",
        "colab": {
          "base_uri": "https://localhost:8080/"
        },
        "outputId": "4bba1f4a-30c1-4a92-b6b3-fcc042bf99cd"
      },
      "source": [
        "#Generate random noise\n",
        "integer = random.randrange(total)\n",
        "print(integer)"
      ],
      "execution_count": null,
      "outputs": [
        {
          "output_type": "stream",
          "text": [
            "212\n"
          ],
          "name": "stdout"
        }
      ]
    },
    {
      "cell_type": "code",
      "metadata": {
        "id": "XTXONZcfQwGD"
      },
      "source": [
        "#Flip a random bit\n",
        "bits[integer] = not bits[integer]"
      ],
      "execution_count": null,
      "outputs": []
    },
    {
      "cell_type": "code",
      "metadata": {
        "colab": {
          "base_uri": "https://localhost:8080/"
        },
        "id": "037znENVPRFI",
        "outputId": "3c809070-9dcc-4eee-f8d4-04f84c80c5ef"
      },
      "source": [
        "#Display message with error\n",
        "error_message = display(extract(bits))\n",
        "print(error_message)"
      ],
      "execution_count": null,
      "outputs": [
        {
          "output_type": "stream",
          "text": [
            "I believe you're just tal{ing nonsense\n"
          ],
          "name": "stdout"
        }
      ]
    },
    {
      "cell_type": "code",
      "metadata": {
        "colab": {
          "base_uri": "https://localhost:8080/",
          "height": 75
        },
        "id": "etrZiTroHTs4",
        "outputId": "fdd97366-e68d-4f74-becc-f2781f555fb8"
      },
      "source": [
        "language= \"en\"\n",
        "mytext=error_message\n",
        "myobj=gTTS(text=mytext,lang=language,slow=False)\n",
        "myobj.save(\"new_file.wav\")\n",
        "IPython.display.Audio(\"/content/new_file.wav\")"
      ],
      "execution_count": null,
      "outputs": [
        {
          "output_type": "execute_result",
          "data": {
            "text/html": [
              "\n",
              "                <audio controls=\"controls\" >\n",
              "                    <source src=\"data:audio/x-wav;base64,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\" type=\"audio/x-wav\" />\n",
              "                    Your browser does not support the audio element.\n",
              "                </audio>\n",
              "              "
            ],
            "text/plain": [
              "<IPython.lib.display.Audio object>"
            ]
          },
          "metadata": {
            "tags": []
          },
          "execution_count": 27
        }
      ]
    },
    {
      "cell_type": "markdown",
      "metadata": {
        "id": "lmglBWhCXt2S"
      },
      "source": [
        "DETECTING AND CORRECTING ERROR"
      ]
    },
    {
      "cell_type": "code",
      "metadata": {
        "colab": {
          "base_uri": "https://localhost:8080/"
        },
        "id": "ObXlO-ixP9pj",
        "outputId": "afa606af-dd93-4918-f8f5-6f2484c3f447"
      },
      "source": [
        "#Check which bit is wrong\n",
        "errorBit = reduce(op.xor, [i for i, bit in enumerate(bits) if bit])\n",
        "print(errorBit)"
      ],
      "execution_count": null,
      "outputs": [
        {
          "output_type": "stream",
          "text": [
            "212\n"
          ],
          "name": "stdout"
        }
      ]
    },
    {
      "cell_type": "code",
      "metadata": {
        "id": "SyWUZW1PQX81"
      },
      "source": [
        "#Correct the error bit by flipping it\n",
        "bits[errorBit] = not bits[errorBit]"
      ],
      "execution_count": null,
      "outputs": []
    },
    {
      "cell_type": "code",
      "metadata": {
        "colab": {
          "base_uri": "https://localhost:8080/"
        },
        "id": "E0a8F5FZT_gN",
        "outputId": "d0b16179-b0fd-4043-a68b-388244d67217"
      },
      "source": [
        "#Check if there is error remaining\n",
        "reduce(op.xor, [i for i, bit in enumerate(bits) if bit])"
      ],
      "execution_count": null,
      "outputs": [
        {
          "output_type": "execute_result",
          "data": {
            "text/plain": [
              "0"
            ]
          },
          "metadata": {
            "tags": []
          },
          "execution_count": 30
        }
      ]
    },
    {
      "cell_type": "code",
      "metadata": {
        "colab": {
          "base_uri": "https://localhost:8080/"
        },
        "id": "zK2M-RrjQsUl",
        "outputId": "41b07d48-b6fc-4168-fdfd-556a8bcb2499"
      },
      "source": [
        "#Display corrected message\n",
        "corrected_message = display(extract(bits))\n",
        "print(corrected_message)"
      ],
      "execution_count": null,
      "outputs": [
        {
          "output_type": "stream",
          "text": [
            "I believe you're just talking nonsense\n"
          ],
          "name": "stdout"
        }
      ]
    },
    {
      "cell_type": "code",
      "metadata": {
        "colab": {
          "base_uri": "https://localhost:8080/",
          "height": 75
        },
        "id": "SJGHpuDCHGZZ",
        "outputId": "4d9c12fe-f286-44bd-e786-3e1b49cc009e"
      },
      "source": [
        "language= \"en\"\n",
        "mytext=corrected_message\n",
        "myobj=gTTS(text=mytext,lang=language,slow=False)\n",
        "myobj.save(\"new_file.wav\")\n",
        "IPython.display.Audio(\"/content/new_file.wav\")"
      ],
      "execution_count": null,
      "outputs": [
        {
          "output_type": "execute_result",
          "data": {
            "text/html": [
              "\n",
              "                <audio controls=\"controls\" >\n",
              "                    <source src=\"data:audio/x-wav;base64,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\" type=\"audio/x-wav\" />\n",
              "                    Your browser does not support the audio element.\n",
              "                </audio>\n",
              "              "
            ],
            "text/plain": [
              "<IPython.lib.display.Audio object>"
            ]
          },
          "metadata": {
            "tags": []
          },
          "execution_count": 32
        }
      ]
    }
  ]
}